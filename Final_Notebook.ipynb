{
 "cells": [
  {
   "cell_type": "code",
   "execution_count": 352,
   "metadata": {},
   "outputs": [],
   "source": [
    "import numpy as np\n",
    "from qiskit import *\n",
    "from random import random, randint\n",
    "import matplotlib.pyplot as plt\n",
    "from qiskit.circuit.library import ZZFeatureMap, RealAmplitudes\n",
    "from sklearn import preprocessing\n",
    "from sklearn.model_selection import train_test_split\n",
    "from scipy.optimize import minimize\n",
    "from qiskit import QuantumCircuit"
   ]
  },
  {
   "cell_type": "code",
   "execution_count": 353,
   "metadata": {},
   "outputs": [],
   "source": [
    "X_train=open('0val_train')\n",
    "X_train=X_train.readlines()\n",
    "X_train_new=[]\n",
    "for i in X_train:\n",
    "    if i != '\\n':\n",
    "        X_train_new.append(i)\n",
    "for i in range(len(X_train_new)):\n",
    "    X_train_new[i]=X_train_new[i].replace('\\n',\"\")\n",
    "    X_train_new[i]=X_train_new[i].split(',')\n",
    "for i in range(len(X_train_new)):\n",
    "    for j in range(len(X_train_new[i])):\n",
    "            X_train_new[i][j]=float(X_train_new[i][j])\n",
    "X_train=X_train_new\n",
    "X_test=open('0val_test')\n",
    "X_test=X_test.readlines()\n",
    "X_test_new=[]\n",
    "for i in X_test:\n",
    "    if i != '\\n':\n",
    "        X_test_new.append(i)\n",
    "for i in range(len(X_test_new)):\n",
    "    X_test_new[i]=X_test_new[i].replace('\\n',\"\")\n",
    "    X_test_new[i]=X_test_new[i].split(',')\n",
    "for i in range(len(X_test_new)):\n",
    "    for j in range(len(X_test_new[i])):\n",
    "            X_test_new[i][j]=float(X_test_new[i][j])\n",
    "X_test=X_test_new\n",
    "Y_train=open('0check_train')\n",
    "Y_train=Y_train.readlines()\n",
    "Y_train=Y_train[0].split(',')\n",
    "for i in range(len(Y_train)):\n",
    "     Y_train[i]=int(Y_train[i])\n",
    "\n",
    "Y_test=open('0check_test')\n",
    "Y_test=Y_test.readlines()\n",
    "Y_test=Y_test[0].split(',')\n",
    "for i in range(len(Y_test)):\n",
    "     Y_test[i]=int(Y_test[i])\n",
    "Y_train.extend(Y_test)\n",
    "X_train.extend(X_test)"
   ]
  },
  {
   "cell_type": "code",
   "execution_count": 354,
   "metadata": {},
   "outputs": [],
   "source": [
    "def create_circuit(feature_data):\n",
    "    feature_data = np.reshape(preprocessing.normalize([feature_data]), len(feature_data))\n",
    "    circuit = ZZFeatureMap(2)\n",
    "    circuit.compose(RealAmplitudes(2))\n",
    "    circuit.initialize(feature_data, circuit.qubits)\n",
    "    return circuit\n",
    "\n",
    "def parity_probabilities(counts, shots=100):\n",
    "    class_0 = 0\n",
    "    class_1 = 0\n",
    "    for keyBefore, value in counts.items():\n",
    "        key = keyBefore.split()[0]\n",
    "        temp = int(key[0]) ^ int(key[1])\n",
    "        for i in range(2, len(key)):\n",
    "            temp = temp ^ int(key[i])\n",
    "        if temp == 0:\n",
    "            class_0 += value\n",
    "        else:\n",
    "            class_1 += value\n",
    "    return {0: class_0 / shots, 1: class_1 / shots}\n",
    "\n",
    "def process_output(circuit, s):\n",
    "    arr = []\n",
    "    simulator = Aer.get_backend('aer_simulator')\n",
    "    job = execute(circuit, simulator, shots=s)\n",
    "    result = job.result()\n",
    "    counts = result.get_counts(circuit)\n",
    "    return counts"
   ]
  },
  {
   "cell_type": "code",
   "execution_count": 355,
   "metadata": {},
   "outputs": [],
   "source": [
    "def mse(num_shots, expected_value):\n",
    "    probability_of_expected = num_shots[expected_value]\n",
    "    return (1 - probability_of_expected) ** 2\n",
    "\n",
    "def count_costs(x_values, y_values, angles, received_measurements):\n",
    "    cost = 0\n",
    "    for i in range(len(x_values)):\n",
    "        cost += mse(received_measurements[i], y_values[i])\n",
    "    return cost / len(x_values)\n"
   ]
  },
  {
   "cell_type": "code",
   "execution_count": 356,
   "metadata": {},
   "outputs": [],
   "source": [
    "def cost(num_qubits, x, y, angles):\n",
    "    measured = []\n",
    "    for i in x:\n",
    "        qc = create_circuit(i)\n",
    "        measured.append(measure(qc))\n",
    "    cost_count = cost(x, y, angles, measured)\n",
    "    return cost_count"
   ]
  },
  {
   "cell_type": "code",
   "execution_count": 357,
   "metadata": {},
   "outputs": [],
   "source": [
    "def train(x, y):\n",
    "    initial_angles = [2 * np.pi * random() for i in range(2)]\n",
    "    optimized = minimize(lambda angles: cost(2, x, y, angles), initial_angles, method='COBYLA')\n",
    "    return optimized\n"
   ]
  },
  {
   "cell_type": "code",
   "execution_count": 358,
   "metadata": {},
   "outputs": [
    {
     "ename": "AerError",
     "evalue": "'circuits have parameters but parameter_binds is not specified.'",
     "output_type": "error",
     "traceback": [
      "\u001b[1;31m---------------------------------------------------------------------------\u001b[0m",
      "\u001b[1;31mAerError\u001b[0m                                  Traceback (most recent call last)",
      "Cell \u001b[1;32mIn[358], line 1\u001b[0m\n\u001b[1;32m----> 1\u001b[0m final_obj \u001b[39m=\u001b[39m train(X_train, Y_train)\n",
      "Cell \u001b[1;32mIn[357], line 3\u001b[0m, in \u001b[0;36mtrain\u001b[1;34m(x, y)\u001b[0m\n\u001b[0;32m      1\u001b[0m \u001b[39mdef\u001b[39;00m \u001b[39mtrain\u001b[39m(x, y):\n\u001b[0;32m      2\u001b[0m     initial_angles \u001b[39m=\u001b[39m [\u001b[39m2\u001b[39m \u001b[39m*\u001b[39m np\u001b[39m.\u001b[39mpi \u001b[39m*\u001b[39m random() \u001b[39mfor\u001b[39;00m i \u001b[39min\u001b[39;00m \u001b[39mrange\u001b[39m(\u001b[39m2\u001b[39m)]\n\u001b[1;32m----> 3\u001b[0m     optimized \u001b[39m=\u001b[39m minimize(\u001b[39mlambda\u001b[39;49;00m angles: cost(\u001b[39m2\u001b[39;49m, x, y, angles), initial_angles, method\u001b[39m=\u001b[39;49m\u001b[39m'\u001b[39;49m\u001b[39mCOBYLA\u001b[39;49m\u001b[39m'\u001b[39;49m)\n\u001b[0;32m      4\u001b[0m     \u001b[39mreturn\u001b[39;00m optimized\n",
      "File \u001b[1;32mc:\\Users\\isha9\\AppData\\Local\\Programs\\Python\\Python311\\Lib\\site-packages\\scipy\\optimize\\_minimize.py:702\u001b[0m, in \u001b[0;36mminimize\u001b[1;34m(fun, x0, args, method, jac, hess, hessp, bounds, constraints, tol, callback, options)\u001b[0m\n\u001b[0;32m    699\u001b[0m     res \u001b[39m=\u001b[39m _minimize_tnc(fun, x0, args, jac, bounds, callback\u001b[39m=\u001b[39mcallback,\n\u001b[0;32m    700\u001b[0m                         \u001b[39m*\u001b[39m\u001b[39m*\u001b[39moptions)\n\u001b[0;32m    701\u001b[0m \u001b[39melif\u001b[39;00m meth \u001b[39m==\u001b[39m \u001b[39m'\u001b[39m\u001b[39mcobyla\u001b[39m\u001b[39m'\u001b[39m:\n\u001b[1;32m--> 702\u001b[0m     res \u001b[39m=\u001b[39m _minimize_cobyla(fun, x0, args, constraints, callback\u001b[39m=\u001b[39;49mcallback,\n\u001b[0;32m    703\u001b[0m                             \u001b[39m*\u001b[39;49m\u001b[39m*\u001b[39;49moptions)\n\u001b[0;32m    704\u001b[0m \u001b[39melif\u001b[39;00m meth \u001b[39m==\u001b[39m \u001b[39m'\u001b[39m\u001b[39mslsqp\u001b[39m\u001b[39m'\u001b[39m:\n\u001b[0;32m    705\u001b[0m     res \u001b[39m=\u001b[39m _minimize_slsqp(fun, x0, args, jac, bounds,\n\u001b[0;32m    706\u001b[0m                           constraints, callback\u001b[39m=\u001b[39mcallback, \u001b[39m*\u001b[39m\u001b[39m*\u001b[39moptions)\n",
      "File \u001b[1;32mc:\\Users\\isha9\\AppData\\Local\\Programs\\Python\\Python311\\Lib\\site-packages\\scipy\\optimize\\_cobyla_py.py:34\u001b[0m, in \u001b[0;36msynchronized.<locals>.wrapper\u001b[1;34m(*args, **kwargs)\u001b[0m\n\u001b[0;32m     31\u001b[0m \u001b[39m@functools\u001b[39m\u001b[39m.\u001b[39mwraps(func)\n\u001b[0;32m     32\u001b[0m \u001b[39mdef\u001b[39;00m \u001b[39mwrapper\u001b[39m(\u001b[39m*\u001b[39margs, \u001b[39m*\u001b[39m\u001b[39m*\u001b[39mkwargs):\n\u001b[0;32m     33\u001b[0m     \u001b[39mwith\u001b[39;00m _module_lock:\n\u001b[1;32m---> 34\u001b[0m         \u001b[39mreturn\u001b[39;00m func(\u001b[39m*\u001b[39;49margs, \u001b[39m*\u001b[39;49m\u001b[39m*\u001b[39;49mkwargs)\n",
      "File \u001b[1;32mc:\\Users\\isha9\\AppData\\Local\\Programs\\Python\\Python311\\Lib\\site-packages\\scipy\\optimize\\_cobyla_py.py:270\u001b[0m, in \u001b[0;36m_minimize_cobyla\u001b[1;34m(fun, x0, args, constraints, rhobeg, tol, maxiter, disp, catol, callback, **unknown_options)\u001b[0m\n\u001b[0;32m    267\u001b[0m         callback(np\u001b[39m.\u001b[39mcopy(x))\n\u001b[0;32m    269\u001b[0m info \u001b[39m=\u001b[39m np\u001b[39m.\u001b[39mzeros(\u001b[39m4\u001b[39m, np\u001b[39m.\u001b[39mfloat64)\n\u001b[1;32m--> 270\u001b[0m xopt, info \u001b[39m=\u001b[39m cobyla\u001b[39m.\u001b[39;49mminimize(calcfc, m\u001b[39m=\u001b[39;49mm, x\u001b[39m=\u001b[39;49mnp\u001b[39m.\u001b[39;49mcopy(x0), rhobeg\u001b[39m=\u001b[39;49mrhobeg,\n\u001b[0;32m    271\u001b[0m                               rhoend\u001b[39m=\u001b[39;49mrhoend, iprint\u001b[39m=\u001b[39;49miprint, maxfun\u001b[39m=\u001b[39;49mmaxfun,\n\u001b[0;32m    272\u001b[0m                               dinfo\u001b[39m=\u001b[39;49minfo, callback\u001b[39m=\u001b[39;49mwrapped_callback)\n\u001b[0;32m    274\u001b[0m \u001b[39mif\u001b[39;00m info[\u001b[39m3\u001b[39m] \u001b[39m>\u001b[39m catol:\n\u001b[0;32m    275\u001b[0m     \u001b[39m# Check constraint violation\u001b[39;00m\n\u001b[0;32m    276\u001b[0m     info[\u001b[39m0\u001b[39m] \u001b[39m=\u001b[39m \u001b[39m4\u001b[39m\n",
      "File \u001b[1;32mc:\\Users\\isha9\\AppData\\Local\\Programs\\Python\\Python311\\Lib\\site-packages\\scipy\\optimize\\_cobyla_py.py:258\u001b[0m, in \u001b[0;36m_minimize_cobyla.<locals>.calcfc\u001b[1;34m(x, con)\u001b[0m\n\u001b[0;32m    257\u001b[0m \u001b[39mdef\u001b[39;00m \u001b[39mcalcfc\u001b[39m(x, con):\n\u001b[1;32m--> 258\u001b[0m     f \u001b[39m=\u001b[39m fun(np\u001b[39m.\u001b[39;49mcopy(x), \u001b[39m*\u001b[39;49margs)\n\u001b[0;32m    259\u001b[0m     i \u001b[39m=\u001b[39m \u001b[39m0\u001b[39m\n\u001b[0;32m    260\u001b[0m     \u001b[39mfor\u001b[39;00m size, c \u001b[39min\u001b[39;00m izip(cons_lengths, constraints):\n",
      "Cell \u001b[1;32mIn[357], line 3\u001b[0m, in \u001b[0;36mtrain.<locals>.<lambda>\u001b[1;34m(angles)\u001b[0m\n\u001b[0;32m      1\u001b[0m \u001b[39mdef\u001b[39;00m \u001b[39mtrain\u001b[39m(x, y):\n\u001b[0;32m      2\u001b[0m     initial_angles \u001b[39m=\u001b[39m [\u001b[39m2\u001b[39m \u001b[39m*\u001b[39m np\u001b[39m.\u001b[39mpi \u001b[39m*\u001b[39m random() \u001b[39mfor\u001b[39;00m i \u001b[39min\u001b[39;00m \u001b[39mrange\u001b[39m(\u001b[39m2\u001b[39m)]\n\u001b[1;32m----> 3\u001b[0m     optimized \u001b[39m=\u001b[39m minimize(\u001b[39mlambda\u001b[39;00m angles: cost(\u001b[39m2\u001b[39;49m, x, y, angles), initial_angles, method\u001b[39m=\u001b[39m\u001b[39m'\u001b[39m\u001b[39mCOBYLA\u001b[39m\u001b[39m'\u001b[39m)\n\u001b[0;32m      4\u001b[0m     \u001b[39mreturn\u001b[39;00m optimized\n",
      "Cell \u001b[1;32mIn[356], line 5\u001b[0m, in \u001b[0;36mcost\u001b[1;34m(num_qubits, x, y, angles)\u001b[0m\n\u001b[0;32m      3\u001b[0m \u001b[39mfor\u001b[39;00m i \u001b[39min\u001b[39;00m x:\n\u001b[0;32m      4\u001b[0m     qc \u001b[39m=\u001b[39m create_circuit(i)\n\u001b[1;32m----> 5\u001b[0m     measured\u001b[39m.\u001b[39mappend(rotation(num_qubits, angles, qc))\n\u001b[0;32m      6\u001b[0m cost_count \u001b[39m=\u001b[39m cost(x, y, angles, measured)\n\u001b[0;32m      7\u001b[0m \u001b[39mreturn\u001b[39;00m cost_count\n",
      "Cell \u001b[1;32mIn[347], line 40\u001b[0m, in \u001b[0;36mrotation\u001b[1;34m(num_qubits, angles, qc)\u001b[0m\n\u001b[0;32m     38\u001b[0m qc\u001b[39m.\u001b[39mmeasure_all()\n\u001b[0;32m     39\u001b[0m s \u001b[39m=\u001b[39m \u001b[39m100\u001b[39m\n\u001b[1;32m---> 40\u001b[0m shots \u001b[39m=\u001b[39m process_output(qc, \u001b[39m100\u001b[39;49m)\n\u001b[0;32m     41\u001b[0m parity_processed \u001b[39m=\u001b[39m parity_probabilities(shots) \n\u001b[0;32m     42\u001b[0m \u001b[39mreturn\u001b[39;00m parity_processed\n",
      "Cell \u001b[1;32mIn[354], line 26\u001b[0m, in \u001b[0;36mprocess_output\u001b[1;34m(circuit, s)\u001b[0m\n\u001b[0;32m     24\u001b[0m simulator \u001b[39m=\u001b[39m Aer\u001b[39m.\u001b[39mget_backend(\u001b[39m'\u001b[39m\u001b[39maer_simulator\u001b[39m\u001b[39m'\u001b[39m)\n\u001b[0;32m     25\u001b[0m job \u001b[39m=\u001b[39m execute(circuit, simulator, shots\u001b[39m=\u001b[39ms)\n\u001b[1;32m---> 26\u001b[0m result \u001b[39m=\u001b[39m job\u001b[39m.\u001b[39;49mresult()\n\u001b[0;32m     27\u001b[0m counts \u001b[39m=\u001b[39m result\u001b[39m.\u001b[39mget_counts(circuit)\n\u001b[0;32m     28\u001b[0m \u001b[39mreturn\u001b[39;00m counts\n",
      "File \u001b[1;32mc:\\Users\\isha9\\AppData\\Local\\Programs\\Python\\Python311\\Lib\\site-packages\\qiskit_aer\\jobs\\utils.py:42\u001b[0m, in \u001b[0;36mrequires_submit.<locals>._wrapper\u001b[1;34m(self, *args, **kwargs)\u001b[0m\n\u001b[0;32m     40\u001b[0m \u001b[39mif\u001b[39;00m \u001b[39mself\u001b[39m\u001b[39m.\u001b[39m_future \u001b[39mis\u001b[39;00m \u001b[39mNone\u001b[39;00m:\n\u001b[0;32m     41\u001b[0m     \u001b[39mraise\u001b[39;00m JobError(\u001b[39m\"\u001b[39m\u001b[39mJob not submitted yet!. You have to .submit() first!\u001b[39m\u001b[39m\"\u001b[39m)\n\u001b[1;32m---> 42\u001b[0m \u001b[39mreturn\u001b[39;00m func(\u001b[39mself\u001b[39;49m, \u001b[39m*\u001b[39;49margs, \u001b[39m*\u001b[39;49m\u001b[39m*\u001b[39;49mkwargs)\n",
      "File \u001b[1;32mc:\\Users\\isha9\\AppData\\Local\\Programs\\Python\\Python311\\Lib\\site-packages\\qiskit_aer\\jobs\\aerjob.py:114\u001b[0m, in \u001b[0;36mAerJob.result\u001b[1;34m(self, timeout)\u001b[0m\n\u001b[0;32m     96\u001b[0m \u001b[39m@requires_submit\u001b[39m\n\u001b[0;32m     97\u001b[0m \u001b[39mdef\u001b[39;00m \u001b[39mresult\u001b[39m(\u001b[39mself\u001b[39m, timeout\u001b[39m=\u001b[39m\u001b[39mNone\u001b[39;00m):\n\u001b[0;32m     98\u001b[0m     \u001b[39m# pylint: disable=arguments-differ\u001b[39;00m\n\u001b[0;32m     99\u001b[0m \u001b[39m    \u001b[39m\u001b[39m\"\"\"Get job result. The behavior is the same as the underlying\u001b[39;00m\n\u001b[0;32m    100\u001b[0m \u001b[39m    concurrent Future objects,\u001b[39;00m\n\u001b[0;32m    101\u001b[0m \n\u001b[1;32m   (...)\u001b[0m\n\u001b[0;32m    112\u001b[0m \u001b[39m        concurrent.futures.CancelledError: if job cancelled before completed.\u001b[39;00m\n\u001b[0;32m    113\u001b[0m \u001b[39m    \"\"\"\u001b[39;00m\n\u001b[1;32m--> 114\u001b[0m     \u001b[39mreturn\u001b[39;00m \u001b[39mself\u001b[39;49m\u001b[39m.\u001b[39;49m_future\u001b[39m.\u001b[39;49mresult(timeout\u001b[39m=\u001b[39;49mtimeout)\n",
      "File \u001b[1;32mc:\\Users\\isha9\\AppData\\Local\\Programs\\Python\\Python311\\Lib\\concurrent\\futures\\_base.py:456\u001b[0m, in \u001b[0;36mFuture.result\u001b[1;34m(self, timeout)\u001b[0m\n\u001b[0;32m    454\u001b[0m     \u001b[39mraise\u001b[39;00m CancelledError()\n\u001b[0;32m    455\u001b[0m \u001b[39melif\u001b[39;00m \u001b[39mself\u001b[39m\u001b[39m.\u001b[39m_state \u001b[39m==\u001b[39m FINISHED:\n\u001b[1;32m--> 456\u001b[0m     \u001b[39mreturn\u001b[39;00m \u001b[39mself\u001b[39;49m\u001b[39m.\u001b[39;49m__get_result()\n\u001b[0;32m    457\u001b[0m \u001b[39melse\u001b[39;00m:\n\u001b[0;32m    458\u001b[0m     \u001b[39mraise\u001b[39;00m \u001b[39mTimeoutError\u001b[39;00m()\n",
      "File \u001b[1;32mc:\\Users\\isha9\\AppData\\Local\\Programs\\Python\\Python311\\Lib\\concurrent\\futures\\_base.py:401\u001b[0m, in \u001b[0;36mFuture.__get_result\u001b[1;34m(self)\u001b[0m\n\u001b[0;32m    399\u001b[0m \u001b[39mif\u001b[39;00m \u001b[39mself\u001b[39m\u001b[39m.\u001b[39m_exception:\n\u001b[0;32m    400\u001b[0m     \u001b[39mtry\u001b[39;00m:\n\u001b[1;32m--> 401\u001b[0m         \u001b[39mraise\u001b[39;00m \u001b[39mself\u001b[39m\u001b[39m.\u001b[39m_exception\n\u001b[0;32m    402\u001b[0m     \u001b[39mfinally\u001b[39;00m:\n\u001b[0;32m    403\u001b[0m         \u001b[39m# Break a reference cycle with the exception in self._exception\u001b[39;00m\n\u001b[0;32m    404\u001b[0m         \u001b[39mself\u001b[39m \u001b[39m=\u001b[39m \u001b[39mNone\u001b[39;00m\n",
      "File \u001b[1;32mc:\\Users\\isha9\\AppData\\Local\\Programs\\Python\\Python311\\Lib\\concurrent\\futures\\thread.py:58\u001b[0m, in \u001b[0;36m_WorkItem.run\u001b[1;34m(self)\u001b[0m\n\u001b[0;32m     55\u001b[0m     \u001b[39mreturn\u001b[39;00m\n\u001b[0;32m     57\u001b[0m \u001b[39mtry\u001b[39;00m:\n\u001b[1;32m---> 58\u001b[0m     result \u001b[39m=\u001b[39m \u001b[39mself\u001b[39;49m\u001b[39m.\u001b[39;49mfn(\u001b[39m*\u001b[39;49m\u001b[39mself\u001b[39;49m\u001b[39m.\u001b[39;49margs, \u001b[39m*\u001b[39;49m\u001b[39m*\u001b[39;49m\u001b[39mself\u001b[39;49m\u001b[39m.\u001b[39;49mkwargs)\n\u001b[0;32m     59\u001b[0m \u001b[39mexcept\u001b[39;00m \u001b[39mBaseException\u001b[39;00m \u001b[39mas\u001b[39;00m exc:\n\u001b[0;32m     60\u001b[0m     \u001b[39mself\u001b[39m\u001b[39m.\u001b[39mfuture\u001b[39m.\u001b[39mset_exception(exc)\n",
      "File \u001b[1;32mc:\\Users\\isha9\\AppData\\Local\\Programs\\Python\\Python311\\Lib\\site-packages\\qiskit_aer\\backends\\aerbackend.py:441\u001b[0m, in \u001b[0;36mAerBackend._execute_circuits_job\u001b[1;34m(self, circuits, parameter_binds, run_options, job_id, format_result)\u001b[0m\n\u001b[0;32m    437\u001b[0m     run_options[\u001b[39m\"\u001b[39m\u001b[39mparameterizations\u001b[39m\u001b[39m\"\u001b[39m] \u001b[39m=\u001b[39m \u001b[39mself\u001b[39m\u001b[39m.\u001b[39m_convert_binds(\n\u001b[0;32m    438\u001b[0m         circuits, parameter_binds, idx_maps\n\u001b[0;32m    439\u001b[0m     )\n\u001b[0;32m    440\u001b[0m \u001b[39melif\u001b[39;00m \u001b[39mnot\u001b[39;00m \u001b[39mall\u001b[39m([\u001b[39mlen\u001b[39m(circuit\u001b[39m.\u001b[39mparameters) \u001b[39m==\u001b[39m \u001b[39m0\u001b[39m \u001b[39mfor\u001b[39;00m circuit \u001b[39min\u001b[39;00m circuits]):\n\u001b[1;32m--> 441\u001b[0m     \u001b[39mraise\u001b[39;00m AerError(\u001b[39m\"\u001b[39m\u001b[39mcircuits have parameters but parameter_binds is not specified.\u001b[39m\u001b[39m\"\u001b[39m)\n\u001b[0;32m    443\u001b[0m \u001b[39mfor\u001b[39;00m circ_id, aer_circuit \u001b[39min\u001b[39;00m \u001b[39menumerate\u001b[39m(aer_circuits):\n\u001b[0;32m    444\u001b[0m     aer_circuit\u001b[39m.\u001b[39mcirc_id \u001b[39m=\u001b[39m circ_id\n",
      "\u001b[1;31mAerError\u001b[0m: 'circuits have parameters but parameter_binds is not specified.'"
     ]
    }
   ],
   "source": [
    "final_obj = train(X_train, Y_train)"
   ]
  },
  {
   "cell_type": "code",
   "execution_count": null,
   "metadata": {},
   "outputs": [
    {
     "name": "stdout",
     "output_type": "stream",
     "text": [
      "Accuracy: 0.375\n"
     ]
    }
   ],
   "source": [
    "final_array = final_obj.x.tolist()\n",
    "def test_accuracy(x, y, optimized_params):\n",
    "    measured = []\n",
    "    num_qubits = 2\n",
    "    for i in range(len(x)):\n",
    "        qc = create_circuit(x[i])\n",
    "        measured.append(measure(qc))\n",
    "    actual_measurements = []\n",
    "    for i in measured:\n",
    "        if i[0] > i[1]:\n",
    "            actual_measurements.append(0)\n",
    "        else:\n",
    "            actual_measurements.append(1)\n",
    "    count_correct = 0\n",
    "    for i in range(len(y)):\n",
    "        if y[i] == actual_measurements[i]:\n",
    "            count_correct += 1\n",
    "    return count_correct / len(y)\n",
    "\n",
    "print(\"Accuracy:\", test_accuracy(features_train, target_train, final_array))"
   ]
  }
 ],
 "metadata": {
  "kernelspec": {
   "display_name": "Python 3",
   "language": "python",
   "name": "python3"
  },
  "language_info": {
   "codemirror_mode": {
    "name": "ipython",
    "version": 3
   },
   "file_extension": ".py",
   "mimetype": "text/x-python",
   "name": "python",
   "nbconvert_exporter": "python",
   "pygments_lexer": "ipython3",
   "version": "3.11.2"
  },
  "orig_nbformat": 4
 },
 "nbformat": 4,
 "nbformat_minor": 2
}
