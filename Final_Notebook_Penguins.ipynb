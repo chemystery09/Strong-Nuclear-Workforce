{
 "cells": [
  {
   "cell_type": "code",
   "execution_count": 3,
   "metadata": {},
   "outputs": [],
   "source": [
    "import numpy as np\n",
    "from qiskit import *\n",
    "from random import random, randint\n",
    "import matplotlib.pyplot as plt\n",
    "from qiskit.circuit.library import ZZFeatureMap, RealAmplitudes\n",
    "from sklearn import preprocessing\n",
    "from sklearn.model_selection import train_test_split\n",
    "from scipy.optimize import minimize\n",
    "from qiskit import QuantumCircuit\n",
    "from sklearn.svm import SVC\n",
    "from qiskit.algorithms.optimizers import COBYLA, ADAM\n",
    "from qiskit_machine_learning.algorithms.classifiers import VQC\n",
    "import time\n",
    "from IPython.display import clear_output\n",
    "import pandas as pd\n",
    "from sklearn.preprocessing import normalize\n",
    "from sklearn.utils import shuffle\n",
    "from qiskit.quantum_info import Statevector\n",
    "from qiskit.circuit import QuantumCircuit, Parameter\n"
   ]
  },
  {
   "cell_type": "code",
   "execution_count": 4,
   "metadata": {},
   "outputs": [],
   "source": [
    "n = 4\n",
    "RANDOM_STATE = 42\n",
    "LR = 1e-3\n",
    "class_labels = ['yes', 'no']\n",
    "\n",
    "def normalizeData(DATA_PATH = r\"penguins_cleaned.csv\"):\n",
    "    data = pd.read_csv(DATA_PATH)\n",
    "    data = shuffle(data, random_state=RANDOM_STATE)\n",
    "    X, Y = data[['culmen_length_mm', 'culmen_depth_mm', 'flipper_length_mm', 'body_mass_g']].values, data['species'].values\n",
    "    # normalize the data\n",
    "    X = normalize(X)\n",
    "    X_train, X_test, Y_train, Y_test = train_test_split(X, Y, test_size=0.3, random_state=RANDOM_STATE)\n",
    "    return X_train, X_test, Y_train, Y_test\n",
    "X_train, X_test, Y_train, Y_test = normalizeData()"
   ]
  },
  {
   "cell_type": "code",
   "execution_count": 5,
   "metadata": {},
   "outputs": [],
   "source": [
    "def create_zfeaturemap(num_qubits):\n",
    "    a = Parameter('a')\n",
    "    b = Parameter('b')\n",
    "    c = Parameter('c')\n",
    "    d = Parameter('d')\n",
    "    circ = QuantumCircuit(num_qubits)\n",
    "    for i in range(num_qubits):\n",
    "        circ.h(i)\n",
    "    circ.p(2 * a, 0)\n",
    "    circ.p(2 * b, 1)\n",
    "    circ.p(2 * c, 2)\n",
    "    circ.p(2 * d, 3)\n",
    "    return circ\n",
    "\n",
    "def create_realamplitudes(num_qubits):\n",
    "    e = Parameter('e')\n",
    "    f = Parameter('f')\n",
    "    g = Parameter('g')\n",
    "    h = Parameter('h')\n",
    "    i = Parameter('i')\n",
    "    j = Parameter('j')\n",
    "    k = Parameter('k')\n",
    "    l = Parameter('l')\n",
    "    circ = QuantumCircuit(num_qubits)\n",
    "    circ.ry(e, 0)\n",
    "    circ.ry(f, 1)\n",
    "    circ.ry(g, 2)\n",
    "    circ.ry(h, 3)\n",
    "    for i in range(num_qubits - 1):\n",
    "        circ.cx(i, i+1)\n",
    "    circ.ry(i, 0)\n",
    "    circ.ry(j, 1)\n",
    "    circ.ry(k, 2)\n",
    "    circ.ry(l, 3)\n",
    "    return circ"
   ]
  },
  {
   "cell_type": "code",
   "execution_count": 6,
   "metadata": {},
   "outputs": [
    {
     "data": {
      "image/png": "[encoded data removed]",
      "text/plain": [
       "<Figure size 705.552x367.889 with 1 Axes>"
      ]
     },
     "execution_count": 6,
     "metadata": {},
     "output_type": "execute_result"
    }
   ],
   "source": [
    "sv = Statevector.from_label('0' * n)\n",
    "feature_map = create_zfeaturemap(4)\n",
    "var_form = create_realamplitudes(4)\n",
    "circuit = feature_map.compose(var_form)\n",
    "circuit.draw(output='mpl', filename=\"overallcircuit.png\")"
   ]
  },
  {
   "cell_type": "code",
   "execution_count": 7,
   "metadata": {},
   "outputs": [],
   "source": [
    "def get_data_dict(params, x):\n",
    "    parameters = {}\n",
    "    for i, p in enumerate(feature_map.parameters):\n",
    "        parameters[p] = x[i]\n",
    "    for i, p in enumerate(var_form.parameters):\n",
    "        parameters[p] = params[i]\n",
    "    return parameters\n",
    "\n",
    "def assign_label(bit_string, class_labels):\n",
    "    hamming_weight = sum([int(k) for k in list(bit_string)])\n",
    "    is_odd_parity = hamming_weight & 1\n",
    "    if is_odd_parity:\n",
    "        return class_labels[1]\n",
    "    else:\n",
    "        return class_labels[0]\n",
    "    \n",
    "def return_probabilities(counts, class_labels):\n",
    "    shots = sum(counts.values())\n",
    "    result = {class_labels[0]: 0,\n",
    "    class_labels[1]: 0}\n",
    "    for key, item in counts.items():\n",
    "        label = assign_label(key, class_labels)\n",
    "        result[label] += counts[key]/shots\n",
    "    return result\n",
    "\n",
    "def classify(x_list, params, class_labels):\n",
    "    qc_list = []\n",
    "    for x in x_list:\n",
    "        circ_ = circuit.assign_parameters(get_data_dict(params, x))\n",
    "        qc = sv.evolve(circ_)\n",
    "        qc_list += [qc]\n",
    "        probs = []\n",
    "    for qc in qc_list:\n",
    "        counts = qc.probabilities_dict()\n",
    "        prob = return_probabilities(counts, class_labels)\n",
    "        probs += [prob]\n",
    "    return probs\n",
    "\n",
    "def mse_cost(probs, expected_label):\n",
    "    p = probs.get(expected_label)\n",
    "    actual, pred = np.array(1), np.array(p)\n",
    "    return np.square(np.subtract(actual,pred)).mean()\n",
    "\n",
    "cost_list = []\n",
    "def cost_function(X, Y, class_labels, params, shots=100, print_value=False):\n",
    "    cost = 0\n",
    "    training_labels = []\n",
    "    training_samples = []\n",
    "    for sample in X:\n",
    "        training_samples += [sample]\n",
    "    for label in Y:\n",
    "        if label == 0:\n",
    "            training_labels += [class_labels[0]]\n",
    "        elif label == 1:\n",
    "            training_labels += [class_labels[1]]\n",
    "    probs = classify(training_samples, params, class_labels)\n",
    "    for i, prob in enumerate(probs):\n",
    "        cost += mse_cost(prob, training_labels[i])\n",
    "    cost /= len(training_samples)\n",
    "    cost_list.append(cost)\n",
    "    return cost\n"
   ]
  },
  {
   "cell_type": "code",
   "execution_count": 8,
   "metadata": {},
   "outputs": [
    {
     "name": "stdout",
     "output_type": "stream",
     "text": [
      "\n",
      "opt_params: [2.78360337561643, 6.51532831561313, 5.589104860589542, 4.739900066029252, 0.7158524168409008, 1.378883943603975, -0.5678434985235323, 5.476508595294642]\n"
     ]
    }
   ],
   "source": [
    "cost_list = []\n",
    "\n",
    "# define objective function for training\n",
    "objective_function = lambda params: cost_function(X_train, Y_train, class_labels, params, print_value=True)\n",
    "# randomly initialize the parameters\n",
    "np.random.seed(RANDOM_STATE)\n",
    "init_params = 2*np.pi*np.random.rand(n*(1)*2)\n",
    "# train classifier\n",
    "#opt_params = COBYLA(len(init_params), objective_function, initial_point=init_params)\n",
    "opt_params = minimize(objective_function, init_params, method = \"COBYLA\")\n",
    "\n",
    "# print results\n",
    "print()\n",
    "print('opt_params:', opt_params.x.tolist())\n",
    "#print('opt_value: ', value)\n"
   ]
  },
  {
   "cell_type": "code",
   "execution_count": 9,
   "metadata": {},
   "outputs": [
    {
     "data": {
      "image/png": "[encoded data removed]",
      "text/plain": [
       "<Figure size 640x480 with 1 Axes>"
      ]
     },
     "metadata": {},
     "output_type": "display_data"
    }
   ],
   "source": [
    "fig = plt.figure()\n",
    "plt.plot(range(1000), cost_list)\n",
    "plt.xlabel('Steps')\n",
    "plt.ylabel('Cost value')\n",
    "plt.title(\"COBYLA Cost value against steps\")\n",
    "plt.show()\n",
    "#fig.savefig('../../Output/Figures/costvssteps.jpeg')\n"
   ]
  },
  {
   "cell_type": "code",
   "execution_count": 10,
   "metadata": {},
   "outputs": [
    {
     "name": "stdout",
     "output_type": "stream",
     "text": [
      "Test accuracy: 0.6363636363636364\n",
      "\n"
     ]
    }
   ],
   "source": [
    "def test_model(X, Y, class_labels, params):\n",
    "    accuracy = 0\n",
    "    training_labels = []\n",
    "    training_samples = []\n",
    "    for sample in X:\n",
    "        training_samples += [sample]\n",
    "    probs = classify(training_samples, params, class_labels)\n",
    "    for i, prob in enumerate(probs):\n",
    "        if (prob.get('yes') >= prob.get('no')) and (Y_test[i] == 0):\n",
    "            accuracy += 1\n",
    "        elif (prob.get('no') >= prob.get('yes')) and (Y_test[i] == 1):\n",
    "            accuracy += 1\n",
    "    accuracy /= len(Y_test)\n",
    "    print(\"Test accuracy: {}\\n\".format(accuracy))\n",
    "\n",
    "test_model(X_test, Y_test, class_labels, opt_params.x.tolist())\n"
   ]
  }
 ],
 "metadata": {
  "kernelspec": {
   "display_name": "Python 3",
   "language": "python",
   "name": "python3"
  },
  "language_info": {
   "codemirror_mode": {
    "name": "ipython",
    "version": 3
   },
   "file_extension": ".py",
   "mimetype": "text/x-python",
   "name": "python",
   "nbconvert_exporter": "python",
   "pygments_lexer": "ipython3",
   "version": "3.11.2"
  },
  "orig_nbformat": 4
 },
 "nbformat": 4,
 "nbformat_minor": 2
}
