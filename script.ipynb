{
 "cells": [
  {
   "cell_type": "code",
   "execution_count": 2,
   "metadata": {},
   "outputs": [],
   "source": [
    "import qsharp\n",
    "import matplotlib.pyplot as plt\n",
    "import pennylane as qml\n",
    "from pennylane import numpy as np\n",
    "\n"
   ]
  },
  {
   "cell_type": "code",
   "execution_count": 3,
   "metadata": {},
   "outputs": [],
   "source": [
    "%%qsharp\n",
    "\n",
    "open Microsoft.Quantum.Math;\n",
    "open Microsoft.Quantum.Arrays;\n",
    "\n",
    "operation ZZFeatureMap(qs : Qubit[], data : Double[]) : Unit {\n",
    "    let numberOfQubits = Length(qs);\n",
    "    if (numberOfQubits != Length(data)) {\n",
    "        fail \"Data length must be equal to the number of qubits.\";\n",
    "    }\n",
    "    for i in 0..numberOfQubits-1 {\n",
    "        // Apply Z rotation to each qubit\n",
    "        Rz(2.0 * PI() * data[i], qs[i]);\n",
    "    }\n",
    "    for i in 0..numberOfQubits-1 {\n",
    "        for j in i+1..numberOfQubits-1 {\n",
    "            // Apply ZZ interaction between each pair of qubits\n",
    "            let theta = 2.0 * PI() * data[i] * data[j];\n",
    "            CNOT(qs[i], qs[j]);\n",
    "            Rz(theta, qs[j]);\n",
    "            CNOT(qs[i], qs[j]);\n",
    "        }\n",
    "    }\n",
    "}\n",
    "\n",
    "\n",
    "operation RealAmplitudes(qubits : Qubit[], parameters : Double[]) : Unit {\n",
    "    // Apply layer of rotation gates\n",
    "    for idx in IndexRange(qubits) {\n",
    "        Ry(parameters[idx], qubits[idx]);\n",
    "    }\n",
    "\n",
    "    // Apply a layer of CNOT gates\n",
    "    for idx in 0 .. Length(qubits)-2 {\n",
    "        for i in idx+1 .. Length(qubits)-1{\n",
    "            CNOT(qubits[idx], qubits[i]);\n",
    "        }\n",
    "    }\n",
    "\n",
    "\n",
    "    // Apply another layer of rotation gates\n",
    "    for idx in IndexRange(qubits) {\n",
    "        Ry(parameters[idx + Length(qubits)], qubits[idx]);\n",
    "    }\n",
    "}\n",
    "\n",
    "operation quantumVariationalClassifier (qubits: Qubit[], x : Double[], θ : Double[]) : Unit {\n",
    "    ZZFeatureMap(qubits, x);\n",
    "    RealAmplitudes(qubits, θ);\n",
    "}\n",
    "\n"
   ]
  },
  {
   "cell_type": "code",
   "execution_count": null,
   "metadata": {},
   "outputs": [],
   "source": [
    "def cost(x):\n",
    "    return quantumVariationalClassifier(x)\n",
    "\n",
    "opt = qml.GradientDescentOptimizer(stepsize=0.4)\n",
    "\n",
    "# set the number of steps\n",
    "steps = 100\n",
    "# set the initial parameter values\n",
    "init_params = np.array([0.011, 0.012, 0.013, 0.014], requires_grad=True)\n",
    "params = init_params\n",
    "\n",
    "for i in range(steps):\n",
    "    # update the circuit parameters\n",
    "    params = opt.step(cost, params)\n",
    "\n",
    "    if (i + 1) % 5 == 0:\n",
    "        print(\"Cost after step {:5d}: {: .7f}\".format(i + 1, cost(params)))\n",
    "\n",
    "print(\"Optimized rotation angles: {}\".format(params))\n"
   ]
  }
 ],
 "metadata": {
  "kernelspec": {
   "display_name": "Python 3",
   "language": "python",
   "name": "python3"
  },
  "language_info": {
   "codemirror_mode": {
    "name": "ipython",
    "version": 3
   },
   "file_extension": ".py",
   "mimetype": "text/x-python",
   "name": "python",
   "nbconvert_exporter": "python",
   "pygments_lexer": "ipython3",
   "version": "3.11.2"
  },
  "orig_nbformat": 4
 },
 "nbformat": 4,
 "nbformat_minor": 2
}
